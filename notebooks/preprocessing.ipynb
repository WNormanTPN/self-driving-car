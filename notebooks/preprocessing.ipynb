{
 "cells": [
  {
   "cell_type": "code",
   "execution_count": 9,
   "metadata": {},
   "outputs": [],
   "source": [
    "import os\n",
    "import cv2\n",
    "from glob import glob\n",
    "import numpy as np\n",
    "import pandas as pd\n",
    "from tqdm import tqdm\n",
    "from tensorflow.keras.preprocessing.image import img_to_array, array_to_img"
   ]
  },
  {
   "cell_type": "code",
   "execution_count": 10,
   "metadata": {},
   "outputs": [
    {
     "name": "stdout",
     "output_type": "stream",
     "text": [
      "Clearing output directory...\n"
     ]
    }
   ],
   "source": [
    "# Set input and output directories\n",
    "input_csv = '../data/raw/track1/driving_log.csv'\n",
    "output_csv = '../data/processed/track1/driving_log.csv'\n",
    "output_dir = '../data/processed/track1'\n",
    "\n",
    "\n",
    "# Clear the output directory\n",
    "print(\"Clearing output directory...\")\n",
    "for file in glob(os.path.join(output_dir, 'IMG/*')):\n",
    "    os.remove(file)\n",
    "for file in glob(os.path.join(output_dir, '*')):\n",
    "    if os.path.isfile(file):\n",
    "        os.remove(file)"
   ]
  },
  {
   "cell_type": "code",
   "execution_count": 11,
   "metadata": {},
   "outputs": [],
   "source": [
    "# Load the image\n",
    "def load_image(path):\n",
    "    image = cv2.imread(path)\n",
    "    return cv2.cvtColor(image, cv2.COLOR_BGR2RGB)"
   ]
  },
  {
   "cell_type": "code",
   "execution_count": 12,
   "metadata": {},
   "outputs": [],
   "source": [
    "# Crop and resize the image\n",
    "def preprocess_image(image):\n",
    "    image = image[60:140, :, :]  # Crop top and bottom\n",
    "    return cv2.resize(image, (200, 66), interpolation=cv2.INTER_AREA)"
   ]
  },
  {
   "cell_type": "code",
   "execution_count": 13,
   "metadata": {},
   "outputs": [],
   "source": [
    "# Apply augmentations\n",
    "def augment_image(image, steering_angle):\n",
    "    images, angles = [image], [steering_angle]\n",
    "    \n",
    "    # Horizontal flip\n",
    "    flipped_image = cv2.flip(image, 1)\n",
    "    images.append(flipped_image)\n",
    "    angles.append(-steering_angle)\n",
    "    \n",
    "    # Brightness adjustment\n",
    "    hsv_image = cv2.cvtColor(image, cv2.COLOR_RGB2HSV)\n",
    "    hsv_image[:, :, 2] = hsv_image[:, :, 2] * (0.2 + np.random.uniform())\n",
    "    bright_image = cv2.cvtColor(hsv_image, cv2.COLOR_HSV2RGB)\n",
    "    images.append(bright_image)\n",
    "    angles.append(steering_angle)\n",
    "    \n",
    "    # Translation\n",
    "    trans_x = np.random.randint(-20, 20)\n",
    "    trans_y = np.random.randint(-10, 10)\n",
    "    trans_matrix = np.float32([[1, 0, trans_x], [0, 1, trans_y]])\n",
    "    translated_image = cv2.warpAffine(image, trans_matrix, (image.shape[1], image.shape[0]))\n",
    "    images.append(translated_image)\n",
    "    angles.append(steering_angle + trans_x * 0.002)\n",
    "    \n",
    "    return images, angles"
   ]
  },
  {
   "cell_type": "code",
   "execution_count": 14,
   "metadata": {},
   "outputs": [],
   "source": [
    "# Process each image and save results\n",
    "def process_and_save_images(row):\n",
    "    camera_paths = [row['center'], row['left'], row['right']]\n",
    "    angles = [row['steering_angle'], row['steering_angle'] + 0.2, row['steering_angle'] - 0.2]\n",
    "    throttle, brake, speed = row['throttle'], row['brake'], row['speed']\n",
    "    \n",
    "    processed_entries = []\n",
    "    \n",
    "    for path, angle in zip(camera_paths, angles):\n",
    "        image = load_image(path)\n",
    "        if image is not None:\n",
    "            image = preprocess_image(image)\n",
    "            augmented_images, augmented_angles = augment_image(image, angle)\n",
    "            \n",
    "            for idx, (aug_img, aug_angle) in enumerate(zip(augmented_images, augmented_angles)):\n",
    "                filename = f\"{os.path.basename(path).split('.')[0]}_aug_{idx}.jpg\"\n",
    "                save_path = os.path.join(output_dir, \"IMG/\", filename)\n",
    "                cv2.imwrite(save_path, cv2.cvtColor(aug_img, cv2.COLOR_RGB2BGR))\n",
    "                \n",
    "                processed_entries.append([save_path, aug_angle, throttle, brake, speed])\n",
    "    \n",
    "    return processed_entries"
   ]
  },
  {
   "cell_type": "code",
   "execution_count": 15,
   "metadata": {},
   "outputs": [
    {
     "name": "stdout",
     "output_type": "stream",
     "text": [
      "Paths have been updated and saved to ../data/processed/track1/driving_log.csv\n"
     ]
    }
   ],
   "source": [
    "# Function to clean up the paths\n",
    "def clean_path(path, project_folder):\n",
    "    start_index = path.find(project_folder)\n",
    "    return \"..\" + path[start_index+len(project_folder):] if start_index != -1 else path\n",
    "\n",
    "# Load the CSV file\n",
    "data = pd.read_csv(input_csv, names=[\"center\", \"left\", \"right\", \"steering_angle\", \"throttle\", \"brake\", \"speed\"])\n",
    "\n",
    "# Apply the clean_path function to each path column\n",
    "project_folder = os.getcwd().split('/')[-2]\n",
    "data['center'] = data['center'].apply(clean_path, project_folder=project_folder)\n",
    "data['left'] = data['left'].apply(clean_path, project_folder=project_folder)\n",
    "data['right'] = data['right'].apply(clean_path, project_folder=project_folder)\n",
    "data['center'].head()\n",
    "\n",
    "# Save the modified data back to a new CSV file\n",
    "data.to_csv(output_csv, index=False, header=False)\n",
    "print(f\"Paths have been updated and saved to {output_csv}\")"
   ]
  },
  {
   "cell_type": "code",
   "execution_count": 16,
   "metadata": {},
   "outputs": [
    {
     "name": "stderr",
     "output_type": "stream",
     "text": [
      "Processing Images: 100%|██████████| 8959/8959 [00:28<00:00, 311.43it/s]\n"
     ]
    },
    {
     "name": "stdout",
     "output_type": "stream",
     "text": [
      "Processing complete. Processed data saved to ../data/processed/track1/driving_log.csv.\n"
     ]
    }
   ],
   "source": [
    "# Main processing loop\n",
    "data = pd.read_csv(input_csv, names=[\"center\", \"left\", \"right\", \"steering_angle\", \"throttle\", \"brake\", \"speed\"])\n",
    "processed_data = []\n",
    "\n",
    "for _, row in tqdm(data.iterrows(), total=len(data), desc=\"Processing Images\"):\n",
    "    processed_entries = process_and_save_images(row)\n",
    "    processed_data.extend(processed_entries)\n",
    "\n",
    "# Save new CSV with processed data\n",
    "processed_df = pd.DataFrame(processed_data, columns=[\"image_path\", \"steering_angle\", \"throttle\", \"brake\", \"speed\"])\n",
    "processed_df.to_csv(output_csv, index=False)\n",
    "print(f\"Processing complete. Processed data saved to {output_csv}.\")"
   ]
  },
  {
   "cell_type": "code",
   "execution_count": null,
   "metadata": {},
   "outputs": [],
   "source": []
  }
 ],
 "metadata": {
  "kernelspec": {
   "display_name": ".venv",
   "language": "python",
   "name": "python3"
  },
  "language_info": {
   "codemirror_mode": {
    "name": "ipython",
    "version": 3
   },
   "file_extension": ".py",
   "mimetype": "text/x-python",
   "name": "python",
   "nbconvert_exporter": "python",
   "pygments_lexer": "ipython3",
   "version": "3.12.7"
  }
 },
 "nbformat": 4,
 "nbformat_minor": 2
}
